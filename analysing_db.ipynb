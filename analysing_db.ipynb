{
 "cells": [
  {
   "cell_type": "code",
   "execution_count": 29,
   "id": "7fdcd3f7",
   "metadata": {},
   "outputs": [],
   "source": [
    "import pandas as pd\n",
    "import sqlite3"
   ]
  },
  {
   "cell_type": "code",
   "execution_count": 30,
   "id": "8c2159a5",
   "metadata": {},
   "outputs": [],
   "source": [
    "con=sqlite3.connect('library_system.sqlite')"
   ]
  },
  {
   "cell_type": "code",
   "execution_count": 40,
   "id": "4584ed73",
   "metadata": {},
   "outputs": [
    {
     "data": {
      "application/vnd.microsoft.datawrangler.viewer.v0+json": {
       "columns": [
        {
         "name": "index",
         "rawType": "int64",
         "type": "integer"
        },
        {
         "name": "type",
         "rawType": "object",
         "type": "string"
        },
        {
         "name": "name",
         "rawType": "object",
         "type": "string"
        },
        {
         "name": "tbl_name",
         "rawType": "object",
         "type": "string"
        },
        {
         "name": "rootpage",
         "rawType": "int64",
         "type": "integer"
        },
        {
         "name": "sql",
         "rawType": "object",
         "type": "string"
        }
       ],
       "conversionMethod": "pd.DataFrame",
       "ref": "023b5a77-d8a7-4c59-8e64-70cce5905142",
       "rows": [
        [
         "0",
         "table",
         "Authors",
         "Authors",
         "2",
         "CREATE TABLE Authors (\n    author_id INTEGER PRIMARY KEY,\n    name TEXT NOT NULL,\n    country TEXT\n)"
        ],
        [
         "1",
         "table",
         "Books",
         "Books",
         "3",
         "CREATE TABLE Books (\n    book_id INTEGER PRIMARY KEY,\n    title TEXT NOT NULL,\n    author_id INTEGER,\n    genre TEXT,\n    published_year INTEGER,\n    FOREIGN KEY (author_id) REFERENCES Authors(author_id)\n)"
        ],
        [
         "2",
         "table",
         "Members",
         "Members",
         "4",
         "CREATE TABLE Members (\n    member_id INTEGER PRIMARY KEY,\n    name TEXT NOT NULL,\n    email TEXT,\n    membership_date DATE\n)"
        ],
        [
         "3",
         "table",
         "Borrowings",
         "Borrowings",
         "5",
         "CREATE TABLE Borrowings (\n    borrowing_id INTEGER PRIMARY KEY,\n    book_id INTEGER,\n    member_id INTEGER,\n    borrow_date DATE,\n    return_date DATE,\n    FOREIGN KEY (book_id) REFERENCES Books(book_id),\n    FOREIGN KEY (member_id) REFERENCES Members(member_id)\n)"
        ],
        [
         "4",
         "table",
         "Fines",
         "Fines",
         "6",
         "CREATE TABLE Fines (\n    fine_id INTEGER PRIMARY KEY,\n    borrowing_id INTEGER,\n    amount REAL,\n    paid BOOLEAN,\n    FOREIGN KEY (borrowing_id) REFERENCES Borrowings(borrowing_id)\n)"
        ],
        [
         "5",
         "view",
         "OverdueBooks",
         "OverdueBooks",
         "0",
         "CREATE VIEW OverdueBooks AS\nSELECT br.borrowing_id, b.title, m.name, br.borrow_date\nFROM Borrowings br\nJOIN Books b ON br.book_id = b.book_id\nJOIN Members m ON br.member_id = m.member_id\nWHERE br.return_date IS NULL AND DATE('now') > DATE(br.borrow_date, '+14 day')"
        ]
       ],
       "shape": {
        "columns": 5,
        "rows": 6
       }
      },
      "text/html": [
       "<div>\n",
       "<style scoped>\n",
       "    .dataframe tbody tr th:only-of-type {\n",
       "        vertical-align: middle;\n",
       "    }\n",
       "\n",
       "    .dataframe tbody tr th {\n",
       "        vertical-align: top;\n",
       "    }\n",
       "\n",
       "    .dataframe thead th {\n",
       "        text-align: right;\n",
       "    }\n",
       "</style>\n",
       "<table border=\"1\" class=\"dataframe\">\n",
       "  <thead>\n",
       "    <tr style=\"text-align: right;\">\n",
       "      <th></th>\n",
       "      <th>type</th>\n",
       "      <th>name</th>\n",
       "      <th>tbl_name</th>\n",
       "      <th>rootpage</th>\n",
       "      <th>sql</th>\n",
       "    </tr>\n",
       "  </thead>\n",
       "  <tbody>\n",
       "    <tr>\n",
       "      <th>0</th>\n",
       "      <td>table</td>\n",
       "      <td>Authors</td>\n",
       "      <td>Authors</td>\n",
       "      <td>2</td>\n",
       "      <td>CREATE TABLE Authors (\\n    author_id INTEGER ...</td>\n",
       "    </tr>\n",
       "    <tr>\n",
       "      <th>1</th>\n",
       "      <td>table</td>\n",
       "      <td>Books</td>\n",
       "      <td>Books</td>\n",
       "      <td>3</td>\n",
       "      <td>CREATE TABLE Books (\\n    book_id INTEGER PRIM...</td>\n",
       "    </tr>\n",
       "    <tr>\n",
       "      <th>2</th>\n",
       "      <td>table</td>\n",
       "      <td>Members</td>\n",
       "      <td>Members</td>\n",
       "      <td>4</td>\n",
       "      <td>CREATE TABLE Members (\\n    member_id INTEGER ...</td>\n",
       "    </tr>\n",
       "    <tr>\n",
       "      <th>3</th>\n",
       "      <td>table</td>\n",
       "      <td>Borrowings</td>\n",
       "      <td>Borrowings</td>\n",
       "      <td>5</td>\n",
       "      <td>CREATE TABLE Borrowings (\\n    borrowing_id IN...</td>\n",
       "    </tr>\n",
       "    <tr>\n",
       "      <th>4</th>\n",
       "      <td>table</td>\n",
       "      <td>Fines</td>\n",
       "      <td>Fines</td>\n",
       "      <td>6</td>\n",
       "      <td>CREATE TABLE Fines (\\n    fine_id INTEGER PRIM...</td>\n",
       "    </tr>\n",
       "    <tr>\n",
       "      <th>5</th>\n",
       "      <td>view</td>\n",
       "      <td>OverdueBooks</td>\n",
       "      <td>OverdueBooks</td>\n",
       "      <td>0</td>\n",
       "      <td>CREATE VIEW OverdueBooks AS\\nSELECT br.borrowi...</td>\n",
       "    </tr>\n",
       "  </tbody>\n",
       "</table>\n",
       "</div>"
      ],
      "text/plain": [
       "    type          name      tbl_name  rootpage  \\\n",
       "0  table       Authors       Authors         2   \n",
       "1  table         Books         Books         3   \n",
       "2  table       Members       Members         4   \n",
       "3  table    Borrowings    Borrowings         5   \n",
       "4  table         Fines         Fines         6   \n",
       "5   view  OverdueBooks  OverdueBooks         0   \n",
       "\n",
       "                                                 sql  \n",
       "0  CREATE TABLE Authors (\\n    author_id INTEGER ...  \n",
       "1  CREATE TABLE Books (\\n    book_id INTEGER PRIM...  \n",
       "2  CREATE TABLE Members (\\n    member_id INTEGER ...  \n",
       "3  CREATE TABLE Borrowings (\\n    borrowing_id IN...  \n",
       "4  CREATE TABLE Fines (\\n    fine_id INTEGER PRIM...  \n",
       "5  CREATE VIEW OverdueBooks AS\\nSELECT br.borrowi...  "
      ]
     },
     "execution_count": 40,
     "metadata": {},
     "output_type": "execute_result"
    }
   ],
   "source": [
    "all_tables=pd.read_sql('''select * from sqlite_master''',con)\n",
    "all_tables"
   ]
  },
  {
   "cell_type": "code",
   "execution_count": 32,
   "id": "6817d7f0",
   "metadata": {},
   "outputs": [
    {
     "data": {
      "application/vnd.microsoft.datawrangler.viewer.v0+json": {
       "columns": [
        {
         "name": "index",
         "rawType": "int64",
         "type": "integer"
        },
        {
         "name": "author_id",
         "rawType": "int64",
         "type": "integer"
        },
        {
         "name": "name",
         "rawType": "object",
         "type": "string"
        },
        {
         "name": "country",
         "rawType": "object",
         "type": "string"
        }
       ],
       "conversionMethod": "pd.DataFrame",
       "ref": "0b2ca158-41e5-4c50-8432-0b063e99a932",
       "rows": [
        [
         "0",
         "1",
         "Haruki Murakami",
         "Japan"
        ],
        [
         "1",
         "2",
         "George Orwell",
         "United Kingdom"
        ],
        [
         "2",
         "3",
         "Jane Austen",
         "United Kingdom"
        ],
        [
         "3",
         "4",
         "Mark Twain",
         "United States"
        ],
        [
         "4",
         "5",
         "Chinua Achebe",
         "Nigeria"
        ]
       ],
       "shape": {
        "columns": 3,
        "rows": 5
       }
      },
      "text/html": [
       "<div>\n",
       "<style scoped>\n",
       "    .dataframe tbody tr th:only-of-type {\n",
       "        vertical-align: middle;\n",
       "    }\n",
       "\n",
       "    .dataframe tbody tr th {\n",
       "        vertical-align: top;\n",
       "    }\n",
       "\n",
       "    .dataframe thead th {\n",
       "        text-align: right;\n",
       "    }\n",
       "</style>\n",
       "<table border=\"1\" class=\"dataframe\">\n",
       "  <thead>\n",
       "    <tr style=\"text-align: right;\">\n",
       "      <th></th>\n",
       "      <th>author_id</th>\n",
       "      <th>name</th>\n",
       "      <th>country</th>\n",
       "    </tr>\n",
       "  </thead>\n",
       "  <tbody>\n",
       "    <tr>\n",
       "      <th>0</th>\n",
       "      <td>1</td>\n",
       "      <td>Haruki Murakami</td>\n",
       "      <td>Japan</td>\n",
       "    </tr>\n",
       "    <tr>\n",
       "      <th>1</th>\n",
       "      <td>2</td>\n",
       "      <td>George Orwell</td>\n",
       "      <td>United Kingdom</td>\n",
       "    </tr>\n",
       "    <tr>\n",
       "      <th>2</th>\n",
       "      <td>3</td>\n",
       "      <td>Jane Austen</td>\n",
       "      <td>United Kingdom</td>\n",
       "    </tr>\n",
       "    <tr>\n",
       "      <th>3</th>\n",
       "      <td>4</td>\n",
       "      <td>Mark Twain</td>\n",
       "      <td>United States</td>\n",
       "    </tr>\n",
       "    <tr>\n",
       "      <th>4</th>\n",
       "      <td>5</td>\n",
       "      <td>Chinua Achebe</td>\n",
       "      <td>Nigeria</td>\n",
       "    </tr>\n",
       "  </tbody>\n",
       "</table>\n",
       "</div>"
      ],
      "text/plain": [
       "   author_id             name         country\n",
       "0          1  Haruki Murakami           Japan\n",
       "1          2    George Orwell  United Kingdom\n",
       "2          3      Jane Austen  United Kingdom\n",
       "3          4       Mark Twain   United States\n",
       "4          5    Chinua Achebe         Nigeria"
      ]
     },
     "execution_count": 32,
     "metadata": {},
     "output_type": "execute_result"
    }
   ],
   "source": [
    "df=pd.read_sql('''select * from Authors''',con)\n",
    "df"
   ]
  },
  {
   "cell_type": "code",
   "execution_count": 33,
   "id": "ac06170e",
   "metadata": {},
   "outputs": [
    {
     "data": {
      "application/vnd.microsoft.datawrangler.viewer.v0+json": {
       "columns": [
        {
         "name": "index",
         "rawType": "int64",
         "type": "integer"
        },
        {
         "name": "title",
         "rawType": "object",
         "type": "string"
        },
        {
         "name": "borrow_count",
         "rawType": "int64",
         "type": "integer"
        }
       ],
       "conversionMethod": "pd.DataFrame",
       "ref": "68ce5fbd-99f8-470a-be71-0ac67fb770a5",
       "rows": [
        [
         "0",
         "Pride and Prejudice",
         "2"
        ],
        [
         "1",
         "Norwegian Wood",
         "2"
        ],
        [
         "2",
         "Kafka on the Shore",
         "2"
        ],
        [
         "3",
         "1984",
         "2"
        ],
        [
         "4",
         "Things Fall Apart",
         "1"
        ]
       ],
       "shape": {
        "columns": 2,
        "rows": 5
       }
      },
      "text/html": [
       "<div>\n",
       "<style scoped>\n",
       "    .dataframe tbody tr th:only-of-type {\n",
       "        vertical-align: middle;\n",
       "    }\n",
       "\n",
       "    .dataframe tbody tr th {\n",
       "        vertical-align: top;\n",
       "    }\n",
       "\n",
       "    .dataframe thead th {\n",
       "        text-align: right;\n",
       "    }\n",
       "</style>\n",
       "<table border=\"1\" class=\"dataframe\">\n",
       "  <thead>\n",
       "    <tr style=\"text-align: right;\">\n",
       "      <th></th>\n",
       "      <th>title</th>\n",
       "      <th>borrow_count</th>\n",
       "    </tr>\n",
       "  </thead>\n",
       "  <tbody>\n",
       "    <tr>\n",
       "      <th>0</th>\n",
       "      <td>Pride and Prejudice</td>\n",
       "      <td>2</td>\n",
       "    </tr>\n",
       "    <tr>\n",
       "      <th>1</th>\n",
       "      <td>Norwegian Wood</td>\n",
       "      <td>2</td>\n",
       "    </tr>\n",
       "    <tr>\n",
       "      <th>2</th>\n",
       "      <td>Kafka on the Shore</td>\n",
       "      <td>2</td>\n",
       "    </tr>\n",
       "    <tr>\n",
       "      <th>3</th>\n",
       "      <td>1984</td>\n",
       "      <td>2</td>\n",
       "    </tr>\n",
       "    <tr>\n",
       "      <th>4</th>\n",
       "      <td>Things Fall Apart</td>\n",
       "      <td>1</td>\n",
       "    </tr>\n",
       "  </tbody>\n",
       "</table>\n",
       "</div>"
      ],
      "text/plain": [
       "                 title  borrow_count\n",
       "0  Pride and Prejudice             2\n",
       "1       Norwegian Wood             2\n",
       "2   Kafka on the Shore             2\n",
       "3                 1984             2\n",
       "4    Things Fall Apart             1"
      ]
     },
     "execution_count": 33,
     "metadata": {},
     "output_type": "execute_result"
    }
   ],
   "source": [
    "#Top 5 Most Borrowed Books\n",
    "most_borrowed_books=pd.read_sql('''SELECT b.title, COUNT(*) AS borrow_count\n",
    "FROM Borrowings br\n",
    "JOIN Books b ON br.book_id = b.book_id\n",
    "GROUP BY b.title\n",
    "ORDER BY borrow_count DESC\n",
    "LIMIT 5;\n",
    "''',con)\n",
    "most_borrowed_books"
   ]
  },
  {
   "cell_type": "code",
   "execution_count": 34,
   "id": "0b04c6ed",
   "metadata": {},
   "outputs": [
    {
     "data": {
      "application/vnd.microsoft.datawrangler.viewer.v0+json": {
       "columns": [
        {
         "name": "index",
         "rawType": "int64",
         "type": "integer"
        },
        {
         "name": "name",
         "rawType": "object",
         "type": "string"
        },
        {
         "name": "total_fines",
         "rawType": "float64",
         "type": "float"
        }
       ],
       "conversionMethod": "pd.DataFrame",
       "ref": "964a914c-e262-4a93-a2ee-62e82df32f0f",
       "rows": [
        [
         "0",
         "Charlie Lee",
         "5.0"
        ],
        [
         "1",
         "Evan Green",
         "4.5"
        ],
        [
         "2",
         "Alice Smith",
         "1.5"
        ],
        [
         "3",
         "Bob Johnson",
         "0.5"
        ],
        [
         "4",
         "Dana White",
         "0.0"
        ]
       ],
       "shape": {
        "columns": 2,
        "rows": 5
       }
      },
      "text/html": [
       "<div>\n",
       "<style scoped>\n",
       "    .dataframe tbody tr th:only-of-type {\n",
       "        vertical-align: middle;\n",
       "    }\n",
       "\n",
       "    .dataframe tbody tr th {\n",
       "        vertical-align: top;\n",
       "    }\n",
       "\n",
       "    .dataframe thead th {\n",
       "        text-align: right;\n",
       "    }\n",
       "</style>\n",
       "<table border=\"1\" class=\"dataframe\">\n",
       "  <thead>\n",
       "    <tr style=\"text-align: right;\">\n",
       "      <th></th>\n",
       "      <th>name</th>\n",
       "      <th>total_fines</th>\n",
       "    </tr>\n",
       "  </thead>\n",
       "  <tbody>\n",
       "    <tr>\n",
       "      <th>0</th>\n",
       "      <td>Charlie Lee</td>\n",
       "      <td>5.0</td>\n",
       "    </tr>\n",
       "    <tr>\n",
       "      <th>1</th>\n",
       "      <td>Evan Green</td>\n",
       "      <td>4.5</td>\n",
       "    </tr>\n",
       "    <tr>\n",
       "      <th>2</th>\n",
       "      <td>Alice Smith</td>\n",
       "      <td>1.5</td>\n",
       "    </tr>\n",
       "    <tr>\n",
       "      <th>3</th>\n",
       "      <td>Bob Johnson</td>\n",
       "      <td>0.5</td>\n",
       "    </tr>\n",
       "    <tr>\n",
       "      <th>4</th>\n",
       "      <td>Dana White</td>\n",
       "      <td>0.0</td>\n",
       "    </tr>\n",
       "  </tbody>\n",
       "</table>\n",
       "</div>"
      ],
      "text/plain": [
       "          name  total_fines\n",
       "0  Charlie Lee          5.0\n",
       "1   Evan Green          4.5\n",
       "2  Alice Smith          1.5\n",
       "3  Bob Johnson          0.5\n",
       "4   Dana White          0.0"
      ]
     },
     "execution_count": 34,
     "metadata": {},
     "output_type": "execute_result"
    }
   ],
   "source": [
    "#Members With the Highest Total Fines\n",
    "highest_fines=pd.read_sql('''SELECT m.name, SUM(f.amount) AS total_fines\n",
    "FROM Fines f\n",
    "JOIN Borrowings br ON f.borrowing_id = br.borrowing_id\n",
    "JOIN Members m ON br.member_id = m.member_id\n",
    "GROUP BY m.name\n",
    "ORDER BY total_fines DESC;\n",
    "''',con)\n",
    "highest_fines"
   ]
  },
  {
   "cell_type": "code",
   "execution_count": 43,
   "id": "419f357c",
   "metadata": {},
   "outputs": [
    {
     "data": {
      "application/vnd.microsoft.datawrangler.viewer.v0+json": {
       "columns": [
        {
         "name": "index",
         "rawType": "int64",
         "type": "integer"
        },
        {
         "name": "name",
         "rawType": "object",
         "type": "string"
        },
        {
         "name": "borrow_count",
         "rawType": "int64",
         "type": "integer"
        }
       ],
       "conversionMethod": "pd.DataFrame",
       "ref": "9ee7d3f1-2a97-4177-9531-64ee68b02c0f",
       "rows": [
        [
         "0",
         "Evan Green",
         "2"
        ],
        [
         "1",
         "Dana White",
         "2"
        ],
        [
         "2",
         "Charlie Lee",
         "2"
        ],
        [
         "3",
         "Bob Johnson",
         "2"
        ],
        [
         "4",
         "Alice Smith",
         "2"
        ]
       ],
       "shape": {
        "columns": 2,
        "rows": 5
       }
      },
      "text/html": [
       "<div>\n",
       "<style scoped>\n",
       "    .dataframe tbody tr th:only-of-type {\n",
       "        vertical-align: middle;\n",
       "    }\n",
       "\n",
       "    .dataframe tbody tr th {\n",
       "        vertical-align: top;\n",
       "    }\n",
       "\n",
       "    .dataframe thead th {\n",
       "        text-align: right;\n",
       "    }\n",
       "</style>\n",
       "<table border=\"1\" class=\"dataframe\">\n",
       "  <thead>\n",
       "    <tr style=\"text-align: right;\">\n",
       "      <th></th>\n",
       "      <th>name</th>\n",
       "      <th>borrow_count</th>\n",
       "    </tr>\n",
       "  </thead>\n",
       "  <tbody>\n",
       "    <tr>\n",
       "      <th>0</th>\n",
       "      <td>Evan Green</td>\n",
       "      <td>2</td>\n",
       "    </tr>\n",
       "    <tr>\n",
       "      <th>1</th>\n",
       "      <td>Dana White</td>\n",
       "      <td>2</td>\n",
       "    </tr>\n",
       "    <tr>\n",
       "      <th>2</th>\n",
       "      <td>Charlie Lee</td>\n",
       "      <td>2</td>\n",
       "    </tr>\n",
       "    <tr>\n",
       "      <th>3</th>\n",
       "      <td>Bob Johnson</td>\n",
       "      <td>2</td>\n",
       "    </tr>\n",
       "    <tr>\n",
       "      <th>4</th>\n",
       "      <td>Alice Smith</td>\n",
       "      <td>2</td>\n",
       "    </tr>\n",
       "  </tbody>\n",
       "</table>\n",
       "</div>"
      ],
      "text/plain": [
       "          name  borrow_count\n",
       "0   Evan Green             2\n",
       "1   Dana White             2\n",
       "2  Charlie Lee             2\n",
       "3  Bob Johnson             2\n",
       "4  Alice Smith             2"
      ]
     },
     "execution_count": 43,
     "metadata": {},
     "output_type": "execute_result"
    }
   ],
   "source": [
    "#Most Active Members by Number of Borrowings\n",
    "most_active_members=pd.read_sql('''SELECT m.name, COUNT(*) AS borrow_count\n",
    "FROM Borrowings br\n",
    "JOIN Members m ON br.member_id = m.member_id\n",
    "GROUP BY m.name\n",
    "ORDER BY borrow_count DESC\n",
    "LIMIT 5;\n",
    "''',con)\n",
    "most_active_members"
   ]
  },
  {
   "cell_type": "code",
   "execution_count": 36,
   "id": "96427c6a",
   "metadata": {},
   "outputs": [
    {
     "data": {
      "application/vnd.microsoft.datawrangler.viewer.v0+json": {
       "columns": [
        {
         "name": "index",
         "rawType": "int64",
         "type": "integer"
        },
        {
         "name": "month",
         "rawType": "object",
         "type": "string"
        },
        {
         "name": "name",
         "rawType": "object",
         "type": "string"
        },
        {
         "name": "borrow_count",
         "rawType": "int64",
         "type": "integer"
        }
       ],
       "conversionMethod": "pd.DataFrame",
       "ref": "64fb3650-c7e3-46ba-ae97-07c57b248d58",
       "rows": [
        [
         "0",
         "2023-01",
         "Bob Johnson",
         "1"
        ],
        [
         "1",
         "2023-01",
         "Alice Smith",
         "1"
        ],
        [
         "2",
         "2023-02",
         "Alice Smith",
         "1"
        ],
        [
         "3",
         "2023-03",
         "Dana White",
         "1"
        ],
        [
         "4",
         "2023-03",
         "Charlie Lee",
         "1"
        ],
        [
         "5",
         "2023-04",
         "Evan Green",
         "1"
        ],
        [
         "6",
         "2023-04",
         "Dana White",
         "1"
        ],
        [
         "7",
         "2023-04",
         "Charlie Lee",
         "1"
        ],
        [
         "8",
         "2023-04",
         "Bob Johnson",
         "1"
        ],
        [
         "9",
         "2023-05",
         "Evan Green",
         "1"
        ]
       ],
       "shape": {
        "columns": 3,
        "rows": 10
       }
      },
      "text/html": [
       "<div>\n",
       "<style scoped>\n",
       "    .dataframe tbody tr th:only-of-type {\n",
       "        vertical-align: middle;\n",
       "    }\n",
       "\n",
       "    .dataframe tbody tr th {\n",
       "        vertical-align: top;\n",
       "    }\n",
       "\n",
       "    .dataframe thead th {\n",
       "        text-align: right;\n",
       "    }\n",
       "</style>\n",
       "<table border=\"1\" class=\"dataframe\">\n",
       "  <thead>\n",
       "    <tr style=\"text-align: right;\">\n",
       "      <th></th>\n",
       "      <th>month</th>\n",
       "      <th>name</th>\n",
       "      <th>borrow_count</th>\n",
       "    </tr>\n",
       "  </thead>\n",
       "  <tbody>\n",
       "    <tr>\n",
       "      <th>0</th>\n",
       "      <td>2023-01</td>\n",
       "      <td>Bob Johnson</td>\n",
       "      <td>1</td>\n",
       "    </tr>\n",
       "    <tr>\n",
       "      <th>1</th>\n",
       "      <td>2023-01</td>\n",
       "      <td>Alice Smith</td>\n",
       "      <td>1</td>\n",
       "    </tr>\n",
       "    <tr>\n",
       "      <th>2</th>\n",
       "      <td>2023-02</td>\n",
       "      <td>Alice Smith</td>\n",
       "      <td>1</td>\n",
       "    </tr>\n",
       "    <tr>\n",
       "      <th>3</th>\n",
       "      <td>2023-03</td>\n",
       "      <td>Dana White</td>\n",
       "      <td>1</td>\n",
       "    </tr>\n",
       "    <tr>\n",
       "      <th>4</th>\n",
       "      <td>2023-03</td>\n",
       "      <td>Charlie Lee</td>\n",
       "      <td>1</td>\n",
       "    </tr>\n",
       "    <tr>\n",
       "      <th>5</th>\n",
       "      <td>2023-04</td>\n",
       "      <td>Evan Green</td>\n",
       "      <td>1</td>\n",
       "    </tr>\n",
       "    <tr>\n",
       "      <th>6</th>\n",
       "      <td>2023-04</td>\n",
       "      <td>Dana White</td>\n",
       "      <td>1</td>\n",
       "    </tr>\n",
       "    <tr>\n",
       "      <th>7</th>\n",
       "      <td>2023-04</td>\n",
       "      <td>Charlie Lee</td>\n",
       "      <td>1</td>\n",
       "    </tr>\n",
       "    <tr>\n",
       "      <th>8</th>\n",
       "      <td>2023-04</td>\n",
       "      <td>Bob Johnson</td>\n",
       "      <td>1</td>\n",
       "    </tr>\n",
       "    <tr>\n",
       "      <th>9</th>\n",
       "      <td>2023-05</td>\n",
       "      <td>Evan Green</td>\n",
       "      <td>1</td>\n",
       "    </tr>\n",
       "  </tbody>\n",
       "</table>\n",
       "</div>"
      ],
      "text/plain": [
       "     month         name  borrow_count\n",
       "0  2023-01  Bob Johnson             1\n",
       "1  2023-01  Alice Smith             1\n",
       "2  2023-02  Alice Smith             1\n",
       "3  2023-03   Dana White             1\n",
       "4  2023-03  Charlie Lee             1\n",
       "5  2023-04   Evan Green             1\n",
       "6  2023-04   Dana White             1\n",
       "7  2023-04  Charlie Lee             1\n",
       "8  2023-04  Bob Johnson             1\n",
       "9  2023-05   Evan Green             1"
      ]
     },
     "execution_count": 36,
     "metadata": {},
     "output_type": "execute_result"
    }
   ],
   "source": [
    "#Most Active Members Per Month\n",
    "most_active_members_per_month=pd.read_sql('''SELECT \n",
    "    strftime('%Y-%m', br.borrow_date) AS month,\n",
    "    m.name,\n",
    "    COUNT(*) AS borrow_count\n",
    "FROM Borrowings br\n",
    "JOIN Members m ON br.member_id = m.member_id\n",
    "GROUP BY month, m.name\n",
    "ORDER BY month, borrow_count DESC;\n",
    "''',con)\n",
    "most_active_members_per_month"
   ]
  },
  {
   "cell_type": "code",
   "execution_count": 37,
   "id": "88c4d66b",
   "metadata": {},
   "outputs": [
    {
     "data": {
      "application/vnd.microsoft.datawrangler.viewer.v0+json": {
       "columns": [
        {
         "name": "index",
         "rawType": "int64",
         "type": "integer"
        },
        {
         "name": "title",
         "rawType": "object",
         "type": "string"
        },
        {
         "name": "borrow_count",
         "rawType": "int64",
         "type": "integer"
        },
        {
         "name": "rank",
         "rawType": "int64",
         "type": "integer"
        }
       ],
       "conversionMethod": "pd.DataFrame",
       "ref": "e7124869-c5d1-4764-8452-971bb56b9615",
       "rows": [
        [
         "0",
         "1984",
         "2",
         "1"
        ],
        [
         "1",
         "Kafka on the Shore",
         "2",
         "1"
        ],
        [
         "2",
         "Norwegian Wood",
         "2",
         "1"
        ],
        [
         "3",
         "Pride and Prejudice",
         "2",
         "1"
        ],
        [
         "4",
         "Adventures of Huckleberry Finn",
         "1",
         "5"
        ],
        [
         "5",
         "Things Fall Apart",
         "1",
         "5"
        ]
       ],
       "shape": {
        "columns": 3,
        "rows": 6
       }
      },
      "text/html": [
       "<div>\n",
       "<style scoped>\n",
       "    .dataframe tbody tr th:only-of-type {\n",
       "        vertical-align: middle;\n",
       "    }\n",
       "\n",
       "    .dataframe tbody tr th {\n",
       "        vertical-align: top;\n",
       "    }\n",
       "\n",
       "    .dataframe thead th {\n",
       "        text-align: right;\n",
       "    }\n",
       "</style>\n",
       "<table border=\"1\" class=\"dataframe\">\n",
       "  <thead>\n",
       "    <tr style=\"text-align: right;\">\n",
       "      <th></th>\n",
       "      <th>title</th>\n",
       "      <th>borrow_count</th>\n",
       "      <th>rank</th>\n",
       "    </tr>\n",
       "  </thead>\n",
       "  <tbody>\n",
       "    <tr>\n",
       "      <th>0</th>\n",
       "      <td>1984</td>\n",
       "      <td>2</td>\n",
       "      <td>1</td>\n",
       "    </tr>\n",
       "    <tr>\n",
       "      <th>1</th>\n",
       "      <td>Kafka on the Shore</td>\n",
       "      <td>2</td>\n",
       "      <td>1</td>\n",
       "    </tr>\n",
       "    <tr>\n",
       "      <th>2</th>\n",
       "      <td>Norwegian Wood</td>\n",
       "      <td>2</td>\n",
       "      <td>1</td>\n",
       "    </tr>\n",
       "    <tr>\n",
       "      <th>3</th>\n",
       "      <td>Pride and Prejudice</td>\n",
       "      <td>2</td>\n",
       "      <td>1</td>\n",
       "    </tr>\n",
       "    <tr>\n",
       "      <th>4</th>\n",
       "      <td>Adventures of Huckleberry Finn</td>\n",
       "      <td>1</td>\n",
       "      <td>5</td>\n",
       "    </tr>\n",
       "    <tr>\n",
       "      <th>5</th>\n",
       "      <td>Things Fall Apart</td>\n",
       "      <td>1</td>\n",
       "      <td>5</td>\n",
       "    </tr>\n",
       "  </tbody>\n",
       "</table>\n",
       "</div>"
      ],
      "text/plain": [
       "                            title  borrow_count  rank\n",
       "0                            1984             2     1\n",
       "1              Kafka on the Shore             2     1\n",
       "2                  Norwegian Wood             2     1\n",
       "3             Pride and Prejudice             2     1\n",
       "4  Adventures of Huckleberry Finn             1     5\n",
       "5               Things Fall Apart             1     5"
      ]
     },
     "execution_count": 37,
     "metadata": {},
     "output_type": "execute_result"
    }
   ],
   "source": [
    "#Rank Books by Popularity Using a Window Function\n",
    "using_window_function=pd.read_sql('''SELECT title, borrow_count,\n",
    "       RANK() OVER (ORDER BY borrow_count DESC) AS rank\n",
    "FROM (\n",
    "    SELECT b.title, COUNT(*) AS borrow_count\n",
    "    FROM Borrowings br\n",
    "    JOIN Books b ON br.book_id = b.book_id\n",
    "    GROUP BY b.title\n",
    ");\n",
    "''',con)\n",
    "using_window_function"
   ]
  },
  {
   "cell_type": "code",
   "execution_count": 41,
   "id": "1776e515",
   "metadata": {},
   "outputs": [
    {
     "data": {
      "application/vnd.microsoft.datawrangler.viewer.v0+json": {
       "columns": [
        {
         "name": "index",
         "rawType": "int64",
         "type": "integer"
        },
        {
         "name": "borrowing_id",
         "rawType": "int64",
         "type": "integer"
        },
        {
         "name": "title",
         "rawType": "object",
         "type": "string"
        },
        {
         "name": "name",
         "rawType": "object",
         "type": "string"
        },
        {
         "name": "borrow_date",
         "rawType": "object",
         "type": "string"
        }
       ],
       "conversionMethod": "pd.DataFrame",
       "ref": "8530619b-14a3-47ec-88b4-e8e5ecc481e8",
       "rows": [
        [
         "0",
         "4",
         "Pride and Prejudice",
         "Charlie Lee",
         "2023-03-01"
        ],
        [
         "1",
         "8",
         "Norwegian Wood",
         "Charlie Lee",
         "2023-04-20"
        ],
        [
         "2",
         "10",
         "Pride and Prejudice",
         "Evan Green",
         "2023-05-01"
        ]
       ],
       "shape": {
        "columns": 4,
        "rows": 3
       }
      },
      "text/html": [
       "<div>\n",
       "<style scoped>\n",
       "    .dataframe tbody tr th:only-of-type {\n",
       "        vertical-align: middle;\n",
       "    }\n",
       "\n",
       "    .dataframe tbody tr th {\n",
       "        vertical-align: top;\n",
       "    }\n",
       "\n",
       "    .dataframe thead th {\n",
       "        text-align: right;\n",
       "    }\n",
       "</style>\n",
       "<table border=\"1\" class=\"dataframe\">\n",
       "  <thead>\n",
       "    <tr style=\"text-align: right;\">\n",
       "      <th></th>\n",
       "      <th>borrowing_id</th>\n",
       "      <th>title</th>\n",
       "      <th>name</th>\n",
       "      <th>borrow_date</th>\n",
       "    </tr>\n",
       "  </thead>\n",
       "  <tbody>\n",
       "    <tr>\n",
       "      <th>0</th>\n",
       "      <td>4</td>\n",
       "      <td>Pride and Prejudice</td>\n",
       "      <td>Charlie Lee</td>\n",
       "      <td>2023-03-01</td>\n",
       "    </tr>\n",
       "    <tr>\n",
       "      <th>1</th>\n",
       "      <td>8</td>\n",
       "      <td>Norwegian Wood</td>\n",
       "      <td>Charlie Lee</td>\n",
       "      <td>2023-04-20</td>\n",
       "    </tr>\n",
       "    <tr>\n",
       "      <th>2</th>\n",
       "      <td>10</td>\n",
       "      <td>Pride and Prejudice</td>\n",
       "      <td>Evan Green</td>\n",
       "      <td>2023-05-01</td>\n",
       "    </tr>\n",
       "  </tbody>\n",
       "</table>\n",
       "</div>"
      ],
      "text/plain": [
       "   borrowing_id                title         name borrow_date\n",
       "0             4  Pride and Prejudice  Charlie Lee  2023-03-01\n",
       "1             8       Norwegian Wood  Charlie Lee  2023-04-20\n",
       "2            10  Pride and Prejudice   Evan Green  2023-05-01"
      ]
     },
     "execution_count": 41,
     "metadata": {},
     "output_type": "execute_result"
    }
   ],
   "source": [
    "# Overdue Books\n",
    "overdue_books=pd.read_sql('''SELECT br.borrowing_id, b.title, m.name, br.borrow_date\n",
    "FROM Borrowings br\n",
    "JOIN Books b ON br.book_id = b.book_id\n",
    "JOIN Members m ON br.member_id = m.member_id\n",
    "WHERE br.return_date IS NULL AND DATE('now') > DATE(br.borrow_date, '+14 day')\n",
    "''',con)\n",
    "overdue_books"
   ]
  },
  {
   "cell_type": "code",
   "execution_count": 42,
   "id": "a71bda8f",
   "metadata": {},
   "outputs": [
    {
     "data": {
      "application/vnd.microsoft.datawrangler.viewer.v0+json": {
       "columns": [
        {
         "name": "index",
         "rawType": "int64",
         "type": "integer"
        },
        {
         "name": "borrowing_id",
         "rawType": "int64",
         "type": "integer"
        },
        {
         "name": "calculated_fine",
         "rawType": "float64",
         "type": "float"
        }
       ],
       "conversionMethod": "pd.DataFrame",
       "ref": "1c4f4f55-2a16-47fd-847d-9ff25950c6a0",
       "rows": [
        [
         "0",
         "4",
         "775.0"
        ],
        [
         "1",
         "8",
         "725.0"
        ],
        [
         "2",
         "10",
         "714.0"
        ]
       ],
       "shape": {
        "columns": 2,
        "rows": 3
       }
      },
      "text/html": [
       "<div>\n",
       "<style scoped>\n",
       "    .dataframe tbody tr th:only-of-type {\n",
       "        vertical-align: middle;\n",
       "    }\n",
       "\n",
       "    .dataframe tbody tr th {\n",
       "        vertical-align: top;\n",
       "    }\n",
       "\n",
       "    .dataframe thead th {\n",
       "        text-align: right;\n",
       "    }\n",
       "</style>\n",
       "<table border=\"1\" class=\"dataframe\">\n",
       "  <thead>\n",
       "    <tr style=\"text-align: right;\">\n",
       "      <th></th>\n",
       "      <th>borrowing_id</th>\n",
       "      <th>calculated_fine</th>\n",
       "    </tr>\n",
       "  </thead>\n",
       "  <tbody>\n",
       "    <tr>\n",
       "      <th>0</th>\n",
       "      <td>4</td>\n",
       "      <td>775.0</td>\n",
       "    </tr>\n",
       "    <tr>\n",
       "      <th>1</th>\n",
       "      <td>8</td>\n",
       "      <td>725.0</td>\n",
       "    </tr>\n",
       "    <tr>\n",
       "      <th>2</th>\n",
       "      <td>10</td>\n",
       "      <td>714.0</td>\n",
       "    </tr>\n",
       "  </tbody>\n",
       "</table>\n",
       "</div>"
      ],
      "text/plain": [
       "   borrowing_id  calculated_fine\n",
       "0             4            775.0\n",
       "1             8            725.0\n",
       "2            10            714.0"
      ]
     },
     "execution_count": 42,
     "metadata": {},
     "output_type": "execute_result"
    }
   ],
   "source": [
    "# Overdue Fine Calculation\n",
    "overdue_fine_collection=pd.read_sql('''WITH OverdueDays AS (\n",
    "    SELECT \n",
    "        br.borrowing_id,\n",
    "        julianday(CASE \n",
    "                    WHEN br.return_date IS NOT NULL THEN br.return_date\n",
    "                    ELSE DATE('now')\n",
    "                 END) - julianday(br.borrow_date) - 14 AS overdue_days\n",
    "    FROM Borrowings br\n",
    "    WHERE \n",
    "        (br.return_date IS NULL AND DATE('now') > DATE(br.borrow_date, '+14 day')) OR\n",
    "        (br.return_date IS NOT NULL AND DATE(br.return_date) > DATE(br.borrow_date, '+14 day'))\n",
    "),\n",
    "CalculatedFines AS (\n",
    "    SELECT \n",
    "        borrowing_id,\n",
    "        MAX(0, ROUND(overdue_days)) * 1.0 AS calculated_fine\n",
    "    FROM OverdueDays\n",
    ")\n",
    "SELECT * FROM CalculatedFines;\n",
    "''',con)\n",
    "overdue_fine_collection"
   ]
  }
 ],
 "metadata": {
  "kernelspec": {
   "display_name": "Python 3",
   "language": "python",
   "name": "python3"
  },
  "language_info": {
   "codemirror_mode": {
    "name": "ipython",
    "version": 3
   },
   "file_extension": ".py",
   "mimetype": "text/x-python",
   "name": "python",
   "nbconvert_exporter": "python",
   "pygments_lexer": "ipython3",
   "version": "3.10.5"
  }
 },
 "nbformat": 4,
 "nbformat_minor": 5
}
